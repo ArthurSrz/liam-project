{
 "cells": [
  {
   "cell_type": "code",
   "execution_count": null,
   "metadata": {
    "vscode": {
     "languageId": "plaintext"
    }
   },
   "outputs": [],
   "source": [
    "import requests\n",
    "\n",
    "# Function to get account details\n",
    "def get_account_details(api_key):\n",
    "    # Define the API endpoint\n",
    "    url = \"https://your-api-base-url/api/rest/v2/account-details\"  # Replace with the actual base URL\n",
    "    \n",
    "    # Set up the headers with the API key\n",
    "    headers = {\n",
    "        \"Authorization\": f\"Bearer {api_key}\"\n",
    "    }\n",
    "    \n",
    "    try:\n",
    "        # Make the GET request\n",
    "        response = requests.get(url, headers=headers)\n",
    "        \n",
    "        # Check if the response is successful\n",
    "        if response.status_code == 200:\n",
    "            return response.json()  # Return the account details as a dictionary\n",
    "        else:\n",
    "            print(f\"Error: {response.status_code} - {response.text}\")\n",
    "            return None\n",
    "    except Exception as e:\n",
    "        print(f\"An error occurred: {e}\")\n",
    "        return None\n",
    "\n",
    "# Replace with your actual API key\n",
    "api_key = \"PoW5aZXyT2CsSIEoSvBBN4eTU\"\n",
    "\n",
    "# Get and display account details\n",
    "account_details = get_account_details(api_key)\n",
    "\n",
    "if account_details:\n",
    "    from pprint import pprint\n",
    "    print(\"Account Details:\")\n",
    "    pprint(account_details)  # Pretty print for better visualization in Jupyter\n",
    "else:\n",
    "    print(\"Failed to fetch account details.\")\n"
   ]
  }
 ],
 "metadata": {
  "language_info": {
   "name": "python"
  }
 },
 "nbformat": 4,
 "nbformat_minor": 2
}
